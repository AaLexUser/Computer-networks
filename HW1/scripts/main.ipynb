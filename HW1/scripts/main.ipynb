{
 "cells": [
  {
   "cell_type": "code",
   "execution_count": 1,
   "metadata": {
    "ExecuteTime": {
     "end_time": "2024-02-19T09:21:30.350420Z",
     "start_time": "2024-02-19T09:21:30.047474Z"
    }
   },
   "outputs": [],
   "source": [
    "import matplotlib.pyplot as plt\n",
    "import numpy as np\n",
    "\n",
    "msg = \"Лапин Алексей Александрович\"\n",
    "dict = {\n",
    "    \"А\": 192,\n",
    "    \"Б\": 193,\n",
    "    \"В\": 194,\n",
    "    \"Г\": 195,\n",
    "    \"Д\": 196,\n",
    "    \"Е\": 197,\n",
    "    \"Ж\": 198,\n",
    "    \"З\": 199,\n",
    "    \"И\": 200,\n",
    "    \"Й\": 201,\n",
    "    \"К\": 202,\n",
    "    \"Л\": 203,\n",
    "    \"М\": 204,\n",
    "    \"Н\": 205,\n",
    "    \"О\": 206,\n",
    "    \"П\": 207,\n",
    "    \"Р\": 208,\n",
    "    \"С\": 209,\n",
    "    \"Т\": 210,\n",
    "    \"У\": 211,\n",
    "    \"Ф\": 212,\n",
    "    \"Х\": 213,\n",
    "    \"Ц\": 214,\n",
    "    \"Ч\": 215,\n",
    "    \"Ш\": 216,\n",
    "    \"Щ\": 217,\n",
    "    \"Ъ\": 218,\n",
    "    \"Ы\": 219,\n",
    "    \"Ь\": 220,\n",
    "    \"Э\": 221,\n",
    "    \"Ю\": 222,\n",
    "    \"Я\": 223,\n",
    "    \"а\": 224,\n",
    "    \"б\": 225,\n",
    "    \"в\": 226,\n",
    "    \"г\": 227,\n",
    "    \"д\": 228,\n",
    "    \"е\": 229,\n",
    "    \"ж\": 230,\n",
    "    \"з\": 231,\n",
    "    \"и\": 232,\n",
    "    \"й\": 233,\n",
    "    \"к\": 234,\n",
    "    \"л\": 235,\n",
    "    \"м\": 236,\n",
    "    \"н\": 237,\n",
    "    \"о\": 238,\n",
    "    \"п\": 239,\n",
    "    \"р\": 240,\n",
    "    \"с\": 241,\n",
    "    \"т\": 242,\n",
    "    \"у\": 243,\n",
    "    \"ф\": 244,\n",
    "    \"х\": 245,\n",
    "    \"ц\": 246,\n",
    "    \"ч\": 247,\n",
    "    \"ш\": 248,\n",
    "    \"щ\": 249,\n",
    "    \"ъ\": 250,\n",
    "    \"ы\": 251,\n",
    "    \"ь\": 252,\n",
    "    \"э\": 253,\n",
    "    \"ю\": 254,\n",
    "    \"я\": 255,\n",
    "    \" \": 32,\n",
    "}\n",
    "\n",
    "def str_to_hex(msg):\n",
    "    res = []\n",
    "    for i in msg:\n",
    "        res.append(hex(dict[i]))\n",
    "    return res\n",
    "\n",
    "def str_to_bin(msg):\n",
    "    res = []\n",
    "    for i in msg:\n",
    "        res.append(bin(dict[i]))\n",
    "    return res"
   ]
  },
  {
   "cell_type": "code",
   "execution_count": 2,
   "metadata": {
    "ExecuteTime": {
     "end_time": "2024-02-19T09:21:30.353964Z",
     "start_time": "2024-02-19T09:21:30.351134Z"
    }
   },
   "outputs": [
    {
     "name": "stdout",
     "output_type": "stream",
     "text": [
      "0xcb 0xe0 0xef 0xe8 0xed 0x20 0xc0 0xeb 0xe5 0xea 0xf1 0xe5 0xe9 0x20 0xc0 0xeb 0xe5 0xea 0xf1 0xe0 0xed 0xe4 0xf0 0xee 0xe2 0xe8 0xf7\n",
      "0b11001011 0b11100000 0b11101111 0b11101000 0b11101101 0b100000 0b11000000 0b11101011 0b11100101 0b11101010 0b11110001 0b11100101 0b11101001 0b100000 0b11000000 0b11101011 0b11100101 0b11101010 0b11110001 0b11100000 0b11101101 0b11100100 0b11110000 0b11101110 0b11100010 0b11101000 0b11110111\n"
     ]
    }
   ],
   "source": [
    "hex_msg = str_to_hex(msg)\n",
    "bin_msg = str_to_bin(msg)\n",
    "print(' '.join(str(x) for x in hex_msg))\n",
    "print(' '.join(str(x) for x in bin_msg))\n"
   ]
  },
  {
   "cell_type": "code",
   "execution_count": 3,
   "metadata": {},
   "outputs": [
    {
     "name": "stdout",
     "output_type": "stream",
     "text": [
      "Л cb 11001011\n",
      "а e0 11100000\n",
      "п ef 11101111\n",
      "и e8 11101000\n",
      "н ed 11101101\n",
      "  20 00100000\n",
      "А c0 11000000\n",
      "л eb 11101011\n",
      "е e5 11100101\n",
      "к ea 11101010\n",
      "с f1 11110001\n",
      "е e5 11100101\n",
      "й e9 11101001\n",
      "  20 00100000\n",
      "А c0 11000000\n",
      "л eb 11101011\n",
      "е e5 11100101\n",
      "к ea 11101010\n",
      "с f1 11110001\n",
      "а e0 11100000\n",
      "н ed 11101101\n",
      "д e4 11100100\n",
      "р f0 11110000\n",
      "о ee 11101110\n",
      "в e2 11100010\n",
      "и e8 11101000\n",
      "ч f7 11110111\n"
     ]
    }
   ],
   "source": [
    "for i in msg:\n",
    "    binary = bin(dict[i])[2:].zfill(8)\n",
    "    hex_val = hex(dict[i])[2:].zfill(2)  \n",
    "    print(i, hex_val, binary)\n"
   ]
  },
  {
   "cell_type": "code",
   "execution_count": 10,
   "metadata": {},
   "outputs": [
    {
     "name": "stdout",
     "output_type": "stream",
     "text": [
      "Л 1010010110011010\n",
      "а 1010100101010101\n",
      "п 1010100110101010\n",
      "и 1010100110010101\n",
      "н 1010100110100110\n",
      "  0101100101010101\n",
      "А 1010010101010101\n",
      "л 1010100110011010\n",
      "е 1010100101100110\n",
      "к 1010100110011001\n",
      "с 1010101001010110\n",
      "е 1010100101100110\n",
      "й 1010100110010110\n",
      "  0101100101010101\n",
      "А 1010010101010101\n",
      "л 1010100110011010\n",
      "е 1010100101100110\n",
      "к 1010100110011001\n",
      "с 1010101001010110\n",
      "а 1010100101010101\n",
      "н 1010100110100110\n",
      "д 1010100101100101\n",
      "р 1010101001010101\n",
      "о 1010100110101001\n",
      "в 1010100101011001\n",
      "и 1010100110010101\n",
      "ч 1010101001101010\n"
     ]
    }
   ],
   "source": [
    "for i in msg:\n",
    "        binary = bin(dict[i])[2:].zfill(8)  # Convert to binary and pad with zeros\n",
    "        manchester = ''.join('10' if bit == '1' else '01' for bit in binary)  # Manchester encode\n",
    "        print(i, manchester)"
   ]
  },
  {
   "cell_type": "code",
   "execution_count": 11,
   "metadata": {
    "ExecuteTime": {
     "end_time": "2024-02-19T09:21:30.415126Z",
     "start_time": "2024-02-19T09:21:30.356413Z"
    }
   },
   "outputs": [
    {
     "data": {
      "image/png": "[encoded data removed]",
      "text/plain": [
       "<Figure size 1000x200 with 1 Axes>"
      ]
     },
     "metadata": {},
     "output_type": "display_data"
    }
   ],
   "source": [
    "def str_to_manchester(msg):\n",
    "    res = []\n",
    "    for i in msg:\n",
    "        binary = bin(dict[i])[2:].zfill(8)  # Convert to binary and pad with zeros\n",
    "        manchester = ''.join('10' if bit == '1' else '01' for bit in binary)  # Manchester encode\n",
    "        res.append(manchester)\n",
    "    return res\n",
    "\n",
    "def plot_manchester(manchester_msg):\n",
    "    # Flatten the list of Manchester encoded strings\n",
    "    manchester_signal = ''.join(manchester_msg)\n",
    "    \n",
    "    # Create a time array for the signal\n",
    "    time = np.arange(len(manchester_signal))\n",
    "    \n",
    "    # Create a signal array where '1' is high and '0' is low\n",
    "    signal = np.array([1 if bit == '1' else  0 for bit in manchester_signal])\n",
    "    \n",
    "    # Plot the signal\n",
    "    plt.figure(figsize=(10,  2))\n",
    "    plt.step(time, signal, where='post')\n",
    "    plt.ylim(-0.5,  1.5)\n",
    "    plt.yticks([0,  1])\n",
    "    plt.title('Manchester Encoded Signal')\n",
    "    plt.xlabel('Time')\n",
    "    plt.ylabel('Signal')\n",
    "    \n",
    "    plt.grid(True, which='both', axis='x')\n",
    "    plt.xticks(np.arange(0, len(manchester_signal), step=2) +  0.5)\n",
    "    \n",
    "    plt.show()\n",
    "\n",
    "manchester_msg = str_to_manchester(msg)\n",
    "plot_manchester(manchester_msg)"
   ]
  }
 ],
 "metadata": {
  "kernelspec": {
   "display_name": "Python 3",
   "language": "python",
   "name": "python3"
  },
  "language_info": {
   "codemirror_mode": {
    "name": "ipython",
    "version": 3
   },
   "file_extension": ".py",
   "mimetype": "text/x-python",
   "name": "python",
   "nbconvert_exporter": "python",
   "pygments_lexer": "ipython3",
   "version": "3.9.6"
  }
 },
 "nbformat": 4,
 "nbformat_minor": 2
}
